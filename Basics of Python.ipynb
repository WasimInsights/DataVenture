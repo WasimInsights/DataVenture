{
 "cells": [
  {
   "cell_type": "code",
   "execution_count": 6,
   "id": "8330a5ba",
   "metadata": {},
   "outputs": [
    {
     "name": "stdout",
     "output_type": "stream",
     "text": [
      "Hello world!\n"
     ]
    }
   ],
   "source": [
    "print (\"Hello world!\")"
   ]
  },
  {
   "cell_type": "markdown",
   "id": "274a9374",
   "metadata": {},
   "source": [
    "# Variables in Python\n",
    "### variable X is equal to 22 which means value of x is 22 as Shown in print () command\n",
    "### No need to speicify the data type it automatically identifies it Type () command\n",
    "\n",
    "### Variables can overide previous variables \n",
    "### Variables are case sensitive\n",
    "### Muliple values can be assingned to multiple variables\n",
    "### Single values to multiple variables\n",
    "### Assigning lists, dictionary, tuples and sets\n",
    "### How to name variables ?\n",
    "### Use of plus sign with integers and variables\n",
    "### Concatination (joinig) of String and Integer\n",
    "\n"
   ]
  },
  {
   "cell_type": "code",
   "execution_count": 12,
   "id": "6b0d32f6",
   "metadata": {},
   "outputs": [
    {
     "name": "stdout",
     "output_type": "stream",
     "text": [
      "22\n"
     ]
    }
   ],
   "source": [
    "x = 22\n",
    "print(x)"
   ]
  },
  {
   "cell_type": "code",
   "execution_count": 13,
   "id": "dcfab23b",
   "metadata": {},
   "outputs": [
    {
     "data": {
      "text/plain": [
       "int"
      ]
     },
     "execution_count": 13,
     "metadata": {},
     "output_type": "execute_result"
    }
   ],
   "source": [
    "type(x)"
   ]
  },
  {
   "cell_type": "code",
   "execution_count": 8,
   "id": "5ad09a60",
   "metadata": {},
   "outputs": [
    {
     "name": "stdout",
     "output_type": "stream",
     "text": [
      "Choclate Chip \n"
     ]
    }
   ],
   "source": [
    "y = 'Choclate Chip '\n",
    "print(y)\n"
   ]
  },
  {
   "cell_type": "code",
   "execution_count": 9,
   "id": "45a5fe4e",
   "metadata": {},
   "outputs": [
    {
     "data": {
      "text/plain": [
       "str"
      ]
     },
     "execution_count": 9,
     "metadata": {},
     "output_type": "execute_result"
    }
   ],
   "source": [
    "type(y)"
   ]
  },
  {
   "cell_type": "markdown",
   "id": "83b86834",
   "metadata": {},
   "source": [
    "# Over-ride\n",
    "\n",
    "## now the previous value (Choclate chip) repalced by new value (Python tutorial) and vice versa"
   ]
  },
  {
   "cell_type": "code",
   "execution_count": 5,
   "id": "a64d63b5",
   "metadata": {},
   "outputs": [
    {
     "name": "stdout",
     "output_type": "stream",
     "text": [
      "Python tutorial \n"
     ]
    }
   ],
   "source": [
    "y = 'Choclate chip'\n",
    "y = 'Python tutorial '\n",
    "print (y)"
   ]
  },
  {
   "cell_type": "markdown",
   "id": "7b70c722",
   "metadata": {},
   "source": [
    "# Case Sensitive\n",
    "### Refer commands below for better understanding\n",
    "# y = choclate chip & Y = Python tutorial"
   ]
  },
  {
   "cell_type": "code",
   "execution_count": 6,
   "id": "fdc25737",
   "metadata": {},
   "outputs": [
    {
     "name": "stdout",
     "output_type": "stream",
     "text": [
      "Choclate chip\n"
     ]
    }
   ],
   "source": [
    "y = 'Choclate chip'\n",
    "Y = 'Python tutorial '\n",
    "print (y)"
   ]
  },
  {
   "cell_type": "code",
   "execution_count": 7,
   "id": "ea72171e",
   "metadata": {},
   "outputs": [
    {
     "name": "stdout",
     "output_type": "stream",
     "text": [
      "Python tutorial \n"
     ]
    }
   ],
   "source": [
    "y = 'Choclate chip'\n",
    "Y = 'Python tutorial '\n",
    "print (Y)"
   ]
  },
  {
   "cell_type": "markdown",
   "id": "7616bb02",
   "metadata": {},
   "source": [
    "# Mutiple values to Multiple variables\n",
    "### check command below "
   ]
  },
  {
   "cell_type": "code",
   "execution_count": 10,
   "id": "ef1d76c7",
   "metadata": {},
   "outputs": [
    {
     "name": "stdout",
     "output_type": "stream",
     "text": [
      "Cheese\n",
      "Cream\n",
      "Bread\n"
     ]
    }
   ],
   "source": [
    "x,y,z = 'Cheese','Cream','Bread'\n",
    "print (x)\n",
    "print (y)\n",
    "print (z)"
   ]
  },
  {
   "cell_type": "markdown",
   "id": "5a8c0d19",
   "metadata": {},
   "source": [
    "# Single value to Multiple variables\n",
    "### check command below "
   ]
  },
  {
   "cell_type": "code",
   "execution_count": 16,
   "id": "3a0a51e8",
   "metadata": {},
   "outputs": [
    {
     "name": "stdout",
     "output_type": "stream",
     "text": [
      "Cheese\n",
      "Cheese\n",
      "Cheese\n"
     ]
    }
   ],
   "source": [
    "x = y= z = 'Cheese'\n",
    "print (x)\n",
    "print (y)\n",
    "print (z)"
   ]
  },
  {
   "cell_type": "markdown",
   "id": "c35c96cb",
   "metadata": {},
   "source": [
    "# Assigning (List, Dictionary, tuples and Sets)\n",
    "### Step 1 - list ice_cream  with 3 string values\n",
    "### Step 2 - variables assigned to list "
   ]
  },
  {
   "cell_type": "code",
   "execution_count": 17,
   "id": "9cc544bb",
   "metadata": {},
   "outputs": [
    {
     "name": "stdout",
     "output_type": "stream",
     "text": [
      "Cheese\n",
      "Cream\n",
      "Bread\n"
     ]
    }
   ],
   "source": [
    "ice_cream = ['Cheese','Cream','Bread']\n",
    "x,y,z = ice_cream\n",
    "print (x)\n",
    "print (y)\n",
    "print (z)"
   ]
  },
  {
   "cell_type": "markdown",
   "id": "4a5d2a52",
   "metadata": {},
   "source": [
    "# How to name variables?\n",
    "### It's really important to consider how you name your variables there are lot of ways to assign variables of sake of understanding lets divide them into 2 categories \n",
    "### Good practice\n",
    "### Bad practice"
   ]
  },
  {
   "cell_type": "code",
   "execution_count": null,
   "id": "53bae4b5",
   "metadata": {},
   "outputs": [],
   "source": [
    "# Camel Case\n",
    "## Test Variable Case\n",
    "testVariableCase = \"Butter Chicken\""
   ]
  },
  {
   "cell_type": "code",
   "execution_count": null,
   "id": "96f9c671",
   "metadata": {},
   "outputs": [],
   "source": [
    "# Pascal Case\n",
    "## Test Variable Case\n",
    "TestVariableCase = \"Butter Chicken\""
   ]
  },
  {
   "cell_type": "code",
   "execution_count": null,
   "id": "0df5cc89",
   "metadata": {},
   "outputs": [],
   "source": [
    "# Snake Case\n",
    "## Test Variable Case\n",
    "test_variable_Case = \"Butter Chicken\""
   ]
  },
  {
   "cell_type": "markdown",
   "id": "5c2ef91c",
   "metadata": {},
   "source": [
    "# Good Practice"
   ]
  },
  {
   "cell_type": "code",
   "execution_count": null,
   "id": "516e41c1",
   "metadata": {},
   "outputs": [],
   "source": [
    "testvar = \"Butter Chicken\"\n",
    "test_var = \"Butter Chicken\"\n",
    "_test_var = \"Butter Chicken\"\n",
    "testVar = \"Butter Chicken\"\n",
    "TestVar = \"Butter Chicken\"\n",
    "testvar2 = \"Butter Chicken\"\n"
   ]
  },
  {
   "cell_type": "markdown",
   "id": "0c3f0238",
   "metadata": {},
   "source": [
    "# Bad Practice \n",
    "### Any kind of symbol like a peroid (.), backslash(\\) , equal sign (=) one of these things will work within your variable"
   ]
  },
  {
   "cell_type": "code",
   "execution_count": null,
   "id": "f46f38a3",
   "metadata": {},
   "outputs": [],
   "source": [
    "2testvar = \"Butter Chicken\"\n",
    "test-var2 = \"Butter Chicken\"\n",
    "test var2 = \"Butter Chicken\"\n",
    "test,var2 = \"Butter Chicken\"\n"
   ]
  },
  {
   "cell_type": "markdown",
   "id": "8dac69c1",
   "metadata": {},
   "source": [
    "# Use of plus sign with variables"
   ]
  },
  {
   "cell_type": "markdown",
   "id": "a05da5f3",
   "metadata": {},
   "source": [
    "## Two strings can be added"
   ]
  },
  {
   "cell_type": "code",
   "execution_count": 23,
   "id": "171ad2b3",
   "metadata": {},
   "outputs": [
    {
     "name": "stdout",
     "output_type": "stream",
     "text": [
      "Ice Cream is my favorite.\n",
      "Coconut tender icream/\n"
     ]
    }
   ],
   "source": [
    "x = 'Ice Cream is my favorite' + '.'\n",
    "y = 'Coconut tender icream' + '/'\n",
    "print(x)\n",
    "print(y)"
   ]
  },
  {
   "cell_type": "markdown",
   "id": "8eca71a1",
   "metadata": {},
   "source": [
    "## One string and One Integer cannot be added"
   ]
  },
  {
   "cell_type": "code",
   "execution_count": null,
   "id": "1b7c5322",
   "metadata": {},
   "outputs": [],
   "source": [
    "x = 'Ice Cream is my favorite' + 2"
   ]
  },
  {
   "cell_type": "markdown",
   "id": "99aa2edd",
   "metadata": {},
   "source": [
    "## Two Integers can be a dded"
   ]
  },
  {
   "cell_type": "code",
   "execution_count": 30,
   "id": "603fd93c",
   "metadata": {},
   "outputs": [
    {
     "name": "stdout",
     "output_type": "stream",
     "text": [
      "5\n"
     ]
    }
   ],
   "source": [
    "y = 3 + 2\n",
    "print(y)"
   ]
  },
  {
   "cell_type": "code",
   "execution_count": 35,
   "id": "4f056ae9",
   "metadata": {},
   "outputs": [
    {
     "name": "stdout",
     "output_type": "stream",
     "text": [
      "Ice cream is my favourite.\n"
     ]
    }
   ],
   "source": [
    "x = 'Ice cream'\n",
    "y = ' is'\n",
    "z = ' my favourite.'\n",
    "print(x+y+z)"
   ]
  },
  {
   "cell_type": "code",
   "execution_count": 36,
   "id": "8bb561b0",
   "metadata": {},
   "outputs": [
    {
     "name": "stdout",
     "output_type": "stream",
     "text": [
      "6\n"
     ]
    }
   ],
   "source": [
    "x = 1\n",
    "y = 2\n",
    "z = 3\n",
    "print(x+y+z)"
   ]
  },
  {
   "cell_type": "markdown",
   "id": "17f8a6d2",
   "metadata": {},
   "source": [
    "# Concatinate sring and integer"
   ]
  },
  {
   "cell_type": "code",
   "execution_count": 37,
   "id": "f6f2c39b",
   "metadata": {},
   "outputs": [
    {
     "name": "stdout",
     "output_type": "stream",
     "text": [
      "Butter chicken 2\n"
     ]
    }
   ],
   "source": [
    "x = 'Butter chicken'\n",
    "y = '2'\n",
    "print(x,y)"
   ]
  },
  {
   "cell_type": "markdown",
   "id": "32ff4a28",
   "metadata": {},
   "source": [
    "# Data Types\n",
    "### data types in python has a classification of the data th at is stored these classification tells you what operations can be perfomed on the data main data types are as follows\n",
    "\n",
    "### 1 . Numeric (Integers, Float, Complex numbers)\n",
    "### 2 . Sequece type  (Strings, lists, tuples,sets)\n",
    "### 3 . Boolean (True & False)\n",
    "### 4 . Dictionary  ("
   ]
  },
  {
   "cell_type": "markdown",
   "id": "c5a760c1",
   "metadata": {},
   "source": [
    "# NUMERIC"
   ]
  },
  {
   "cell_type": "markdown",
   "id": "d53f6308",
   "metadata": {},
   "source": [
    "## Integers\n",
    "### Intergers are whole numbers wheather they are positive or nagative use as single or in operation\n",
    "### Refer below for example"
   ]
  },
  {
   "cell_type": "code",
   "execution_count": 41,
   "id": "5693662f",
   "metadata": {},
   "outputs": [
    {
     "data": {
      "text/plain": [
       "int"
      ]
     },
     "execution_count": 41,
     "metadata": {},
     "output_type": "execute_result"
    }
   ],
   "source": [
    "type(12)"
   ]
  },
  {
   "cell_type": "code",
   "execution_count": 42,
   "id": "acaa4a3f",
   "metadata": {},
   "outputs": [
    {
     "data": {
      "text/plain": [
       "int"
      ]
     },
     "execution_count": 42,
     "metadata": {},
     "output_type": "execute_result"
    }
   ],
   "source": [
    "type(-12)"
   ]
  },
  {
   "cell_type": "code",
   "execution_count": 43,
   "id": "58ce3351",
   "metadata": {},
   "outputs": [
    {
     "data": {
      "text/plain": [
       "int"
      ]
     },
     "execution_count": 43,
     "metadata": {},
     "output_type": "execute_result"
    }
   ],
   "source": [
    "type(-12 + 100)"
   ]
  },
  {
   "cell_type": "markdown",
   "id": "bc422f1d",
   "metadata": {},
   "source": [
    " ## Float\n",
    " ### These are decimal numbers  wheather they are positive or nagative use as single or in operation\n",
    " ### Refer below for example"
   ]
  },
  {
   "cell_type": "code",
   "execution_count": 44,
   "id": "a419ef3d",
   "metadata": {},
   "outputs": [
    {
     "data": {
      "text/plain": [
       "float"
      ]
     },
     "execution_count": 44,
     "metadata": {},
     "output_type": "execute_result"
    }
   ],
   "source": [
    "type(10.5)"
   ]
  },
  {
   "cell_type": "code",
   "execution_count": 45,
   "id": "3eb0e14f",
   "metadata": {},
   "outputs": [
    {
     "data": {
      "text/plain": [
       "float"
      ]
     },
     "execution_count": 45,
     "metadata": {},
     "output_type": "execute_result"
    }
   ],
   "source": [
    "type(-10.5)"
   ]
  },
  {
   "cell_type": "code",
   "execution_count": 46,
   "id": "aa601bba",
   "metadata": {},
   "outputs": [
    {
     "data": {
      "text/plain": [
       "float"
      ]
     },
     "execution_count": 46,
     "metadata": {},
     "output_type": "execute_result"
    }
   ],
   "source": [
    "type(-12 + 10.5)"
   ]
  },
  {
   "cell_type": "markdown",
   "id": "23fdd1f6",
   "metadata": {},
   "source": [
    "## Complex numbers\n",
    "### These are imaginary numbers  wheather they are positive or nagative use as single or in operation ('j') is an imaginary number mostly used in vectors \n",
    " ### No other alphabet than ('j')\n",
    "  ### Refer below for example"
   ]
  },
  {
   "cell_type": "code",
   "execution_count": 47,
   "id": "4499ce32",
   "metadata": {},
   "outputs": [
    {
     "data": {
      "text/plain": [
       "complex"
      ]
     },
     "execution_count": 47,
     "metadata": {},
     "output_type": "execute_result"
    }
   ],
   "source": [
    " type(4j)"
   ]
  },
  {
   "cell_type": "code",
   "execution_count": 48,
   "id": "8b3296ba",
   "metadata": {},
   "outputs": [
    {
     "data": {
      "text/plain": [
       "complex"
      ]
     },
     "execution_count": 48,
     "metadata": {},
     "output_type": "execute_result"
    }
   ],
   "source": [
    " type(-4j)"
   ]
  },
  {
   "cell_type": "code",
   "execution_count": 49,
   "id": "72b85f51",
   "metadata": {},
   "outputs": [
    {
     "data": {
      "text/plain": [
       "complex"
      ]
     },
     "execution_count": 49,
     "metadata": {},
     "output_type": "execute_result"
    }
   ],
   "source": [
    " type(12 + -4j)"
   ]
  },
  {
   "cell_type": "code",
   "execution_count": null,
   "id": "1e20e193",
   "metadata": {},
   "outputs": [],
   "source": [
    "type(3f)"
   ]
  },
  {
   "cell_type": "markdown",
   "id": "1c881430",
   "metadata": {},
   "source": [
    "# Boolean\n",
    "### It has only two out puts true and false its shown as bool\n",
    "### This can be used for sometthing like comparision opertator\n",
    " ### Refer below for example\n"
   ]
  },
  {
   "cell_type": "code",
   "execution_count": 51,
   "id": "076ce92e",
   "metadata": {},
   "outputs": [
    {
     "data": {
      "text/plain": [
       "bool"
      ]
     },
     "execution_count": 51,
     "metadata": {},
     "output_type": "execute_result"
    }
   ],
   "source": [
    "type(True)"
   ]
  },
  {
   "cell_type": "code",
   "execution_count": 53,
   "id": "1a92efbe",
   "metadata": {},
   "outputs": [
    {
     "data": {
      "text/plain": [
       "bool"
      ]
     },
     "execution_count": 53,
     "metadata": {},
     "output_type": "execute_result"
    }
   ],
   "source": [
    "type(False)"
   ]
  },
  {
   "cell_type": "code",
   "execution_count": 54,
   "id": "f07e7a52",
   "metadata": {},
   "outputs": [
    {
     "data": {
      "text/plain": [
       "bool"
      ]
     },
     "execution_count": 54,
     "metadata": {},
     "output_type": "execute_result"
    }
   ],
   "source": [
    "type(1 > 5)"
   ]
  },
  {
   "cell_type": "code",
   "execution_count": 55,
   "id": "6cd44ec2",
   "metadata": {},
   "outputs": [
    {
     "data": {
      "text/plain": [
       "False"
      ]
     },
     "execution_count": 55,
     "metadata": {},
     "output_type": "execute_result"
    }
   ],
   "source": [
    "(1 > 5)"
   ]
  },
  {
   "cell_type": "code",
   "execution_count": 56,
   "id": "ddb44ba3",
   "metadata": {},
   "outputs": [
    {
     "data": {
      "text/plain": [
       "True"
      ]
     },
     "execution_count": 56,
     "metadata": {},
     "output_type": "execute_result"
    }
   ],
   "source": [
    "1 == 1"
   ]
  },
  {
   "cell_type": "markdown",
   "id": "df8b7448",
   "metadata": {},
   "source": [
    "# Sequece type"
   ]
  },
  {
   "cell_type": "markdown",
   "id": "fbb573ac",
   "metadata": {},
   "source": [
    "## Strings\n",
    "### For using strings either put them in single quote, double quote or triple quote (it is also called as multiline) aslo known as apostrophes | \" |\n",
    "### 'I' had a good day' (this is wrong if there is a more then two single quote) (same goes for double quotes)\n",
    "### \"I' had a good day\" (This is right format)\n",
    "### \"\"\" I'had a good day with my \"team\" \"\"\" (This is right format)\n",
    "### Strings can be indexed\n"
   ]
  },
  {
   "cell_type": "code",
   "execution_count": 57,
   "id": "ed6e6926",
   "metadata": {},
   "outputs": [
    {
     "data": {
      "text/plain": [
       "'Single quote'"
      ]
     },
     "execution_count": 57,
     "metadata": {},
     "output_type": "execute_result"
    }
   ],
   "source": [
    "'Single quote'"
   ]
  },
  {
   "cell_type": "code",
   "execution_count": 58,
   "id": "beb72ffa",
   "metadata": {},
   "outputs": [
    {
     "data": {
      "text/plain": [
       "'Double quote'"
      ]
     },
     "execution_count": 58,
     "metadata": {},
     "output_type": "execute_result"
    }
   ],
   "source": [
    "\"Double quote\""
   ]
  },
  {
   "cell_type": "code",
   "execution_count": 63,
   "id": "1e7c7100",
   "metadata": {},
   "outputs": [],
   "source": [
    "multiline_var = \"\"\"\n",
    "She Sells Sea Shells\n",
    "on the Sea Shore on\n",
    "sunny Sundays\n",
    "\"\"\""
   ]
  },
  {
   "cell_type": "code",
   "execution_count": 64,
   "id": "4f708dbc",
   "metadata": {},
   "outputs": [
    {
     "name": "stdout",
     "output_type": "stream",
     "text": [
      "\n",
      "She Sells Sea Shells\n",
      "on the Sea Shore on\n",
      "sunny Sundays\n",
      "\n"
     ]
    }
   ],
   "source": [
    "print(multiline_var)"
   ]
  },
  {
   "cell_type": "code",
   "execution_count": 65,
   "id": "152bd6ab",
   "metadata": {},
   "outputs": [
    {
     "data": {
      "text/plain": [
       "\"I' had a good day\""
      ]
     },
     "execution_count": 65,
     "metadata": {},
     "output_type": "execute_result"
    }
   ],
   "source": [
    "\"I' had a good day\" "
   ]
  },
  {
   "cell_type": "code",
   "execution_count": 72,
   "id": "e758f466",
   "metadata": {},
   "outputs": [
    {
     "data": {
      "text/plain": [
       "'I\\'had a good day with my \"team\" '"
      ]
     },
     "execution_count": 72,
     "metadata": {},
     "output_type": "execute_result"
    }
   ],
   "source": [
    "\"\"\"I'had a good day with my \"team\" \"\"\""
   ]
  },
  {
   "cell_type": "code",
   "execution_count": 74,
   "id": "e0ed2c1d",
   "metadata": {},
   "outputs": [
    {
     "data": {
      "text/plain": [
       "str"
      ]
     },
     "execution_count": 74,
     "metadata": {},
     "output_type": "execute_result"
    }
   ],
   "source": [
    "type(multiline_var)"
   ]
  },
  {
   "cell_type": "markdown",
   "id": "48a8d727",
   "metadata": {},
   "source": [
    "# Index\n",
    "### indexing means one can serch with in the text. the index starts from zero\n",
    "### Refer the example below"
   ]
  },
  {
   "cell_type": "code",
   "execution_count": 86,
   "id": "c3ab619b",
   "metadata": {},
   "outputs": [],
   "source": [
    "a = 'hello world!'"
   ]
  },
  {
   "cell_type": "code",
   "execution_count": null,
   "id": "72c66ba7",
   "metadata": {},
   "outputs": [],
   "source": [
    "### No indexing"
   ]
  },
  {
   "cell_type": "code",
   "execution_count": 87,
   "id": "a3fcead3",
   "metadata": {
    "scrolled": true
   },
   "outputs": [
    {
     "name": "stdout",
     "output_type": "stream",
     "text": [
      "hello world!\n"
     ]
    }
   ],
   "source": [
    "print(a)"
   ]
  },
  {
   "cell_type": "markdown",
   "id": "90841f6e",
   "metadata": {},
   "source": [
    "### With indexing\n",
    "### 1] print(a[:5]) (starting from 0 this gives first Five positions that means alphabets from 0 to 5 in the string)\n",
    "### 2] print(a[4]) (this gives singal alphbet on fourth position in the string from left to right )\n",
    "### 3] print(a[-3]) (this gives singal alphbet on fourth position in the string from Right to left )\n",
    "### 4] print(a[2:5]) (in this case the from total 5 positions code skips second position and gives 3 positions as output)\n",
    "### 5] a*3 (multiplies strings three times)"
   ]
  },
  {
   "cell_type": "code",
   "execution_count": 88,
   "id": "0bf57a3d",
   "metadata": {},
   "outputs": [
    {
     "name": "stdout",
     "output_type": "stream",
     "text": [
      "hello\n"
     ]
    }
   ],
   "source": [
    "print(a[:5])"
   ]
  },
  {
   "cell_type": "code",
   "execution_count": 89,
   "id": "41aa241e",
   "metadata": {},
   "outputs": [
    {
     "name": "stdout",
     "output_type": "stream",
     "text": [
      "o\n"
     ]
    }
   ],
   "source": [
    "print(a[4])"
   ]
  },
  {
   "cell_type": "code",
   "execution_count": 90,
   "id": "21c5b757",
   "metadata": {},
   "outputs": [
    {
     "name": "stdout",
     "output_type": "stream",
     "text": [
      "l\n"
     ]
    }
   ],
   "source": [
    "print(a[-3])"
   ]
  },
  {
   "cell_type": "code",
   "execution_count": 91,
   "id": "babce91e",
   "metadata": {},
   "outputs": [
    {
     "name": "stdout",
     "output_type": "stream",
     "text": [
      "llo\n"
     ]
    }
   ],
   "source": [
    "print(a[2:5])"
   ]
  },
  {
   "cell_type": "code",
   "execution_count": 92,
   "id": "bf468592",
   "metadata": {},
   "outputs": [
    {
     "data": {
      "text/plain": [
       "'hello world!hello world!hello world!'"
      ]
     },
     "execution_count": 92,
     "metadata": {},
     "output_type": "execute_result"
    }
   ],
   "source": [
    "a*3"
   ]
  },
  {
   "cell_type": "code",
   "execution_count": 93,
   "id": "92754c07",
   "metadata": {},
   "outputs": [
    {
     "data": {
      "text/plain": [
       "'hello world!hello world!'"
      ]
     },
     "execution_count": 93,
     "metadata": {},
     "output_type": "execute_result"
    }
   ],
   "source": [
    "a+a"
   ]
  },
  {
   "cell_type": "markdown",
   "id": "12680d89",
   "metadata": {},
   "source": [
    "# lists\n",
    "### lists are fantasic because they store multiple values. Strings was stored as one value multiple charcters. But a list can  store multiple seperate values \n",
    "### To make list we use | [  ] | while () & {} denotes differnt types of data types [1,2,3] indexing is like [0,1,2]\n",
    "### List can have any data type in them such as ['Buttermilk',3,4.5,True]\n",
    "### List with one more list within it (nested list) such as ['Buttermilk',3,4.5,['Scoops','Spoon'],True]\n",
    "### lists are changeable (M) we can add or remove data once after creating it"
   ]
  },
  {
   "cell_type": "code",
   "execution_count": 96,
   "id": "2b1487ba",
   "metadata": {},
   "outputs": [
    {
     "data": {
      "text/plain": [
       "[1, 2, 3]"
      ]
     },
     "execution_count": 96,
     "metadata": {},
     "output_type": "execute_result"
    }
   ],
   "source": [
    "[1,2,3]"
   ]
  },
  {
   "cell_type": "code",
   "execution_count": 97,
   "id": "4429650f",
   "metadata": {},
   "outputs": [
    {
     "data": {
      "text/plain": [
       "['Apple', 'Mango', 'Orange']"
      ]
     },
     "execution_count": 97,
     "metadata": {},
     "output_type": "execute_result"
    }
   ],
   "source": [
    "['Apple','Mango','Orange']"
   ]
  },
  {
   "cell_type": "code",
   "execution_count": 98,
   "id": "702cf5e1",
   "metadata": {},
   "outputs": [
    {
     "data": {
      "text/plain": [
       "['Buttermilk', 3, 4.5, True]"
      ]
     },
     "execution_count": 98,
     "metadata": {},
     "output_type": "execute_result"
    }
   ],
   "source": [
    "['Buttermilk',3,4.5,True]"
   ]
  },
  {
   "cell_type": "code",
   "execution_count": 99,
   "id": "df62fbd5",
   "metadata": {},
   "outputs": [
    {
     "data": {
      "text/plain": [
       "['Buttermilk', 3, 4.5, ['Scoops', 'Spoon'], True]"
      ]
     },
     "execution_count": 99,
     "metadata": {},
     "output_type": "execute_result"
    }
   ],
   "source": [
    "['Buttermilk',3,4.5,['Scoops','Spoon'],True]"
   ]
  },
  {
   "cell_type": "code",
   "execution_count": 100,
   "id": "4fcf0001",
   "metadata": {},
   "outputs": [
    {
     "data": {
      "text/plain": [
       "['Apple', 'Mango', 'Orange', 'Salted caramel']"
      ]
     },
     "execution_count": 100,
     "metadata": {},
     "output_type": "execute_result"
    }
   ],
   "source": [
    "Ice_cream = ['Apple','Mango','Orange']\n",
    "Ice_cream.append('Salted caramel')\n",
    "Ice_cream"
   ]
  },
  {
   "cell_type": "code",
   "execution_count": 101,
   "id": "dcfe11d4",
   "metadata": {},
   "outputs": [
    {
     "data": {
      "text/plain": [
       "['Potato', 'Mango', 'Orange', 'Salted caramel']"
      ]
     },
     "execution_count": 101,
     "metadata": {},
     "output_type": "execute_result"
    }
   ],
   "source": [
    "Ice_cream[0] = 'Potato'\n",
    "Ice_cream"
   ]
  },
  {
   "cell_type": "code",
   "execution_count": null,
   "id": "368937f4",
   "metadata": {},
   "outputs": [],
   "source": [
    "# Indexing with nested list"
   ]
  },
  {
   "cell_type": "code",
   "execution_count": 125,
   "id": "59a117ab",
   "metadata": {},
   "outputs": [],
   "source": [
    "nest_list = ['vanilla',3,['Scoops','Spoon'],True]"
   ]
  },
  {
   "cell_type": "code",
   "execution_count": 126,
   "id": "23ee5e3f",
   "metadata": {},
   "outputs": [
    {
     "data": {
      "text/plain": [
       "'vanilla'"
      ]
     },
     "execution_count": 126,
     "metadata": {},
     "output_type": "execute_result"
    }
   ],
   "source": [
    "nest_list[0]"
   ]
  },
  {
   "cell_type": "code",
   "execution_count": 127,
   "id": "9e3ca91e",
   "metadata": {},
   "outputs": [
    {
     "data": {
      "text/plain": [
       "['Scoops', 'Spoon']"
      ]
     },
     "execution_count": 127,
     "metadata": {},
     "output_type": "execute_result"
    }
   ],
   "source": [
    "nest_list[2]"
   ]
  },
  {
   "cell_type": "code",
   "execution_count": 128,
   "id": "2ca57a76",
   "metadata": {},
   "outputs": [
    {
     "data": {
      "text/plain": [
       "'Spoon'"
      ]
     },
     "execution_count": 128,
     "metadata": {},
     "output_type": "execute_result"
    }
   ],
   "source": [
    "nest_list[2][1]"
   ]
  },
  {
   "cell_type": "code",
   "execution_count": 130,
   "id": "a327cc21",
   "metadata": {},
   "outputs": [],
   "source": [
    "nest_list_1 = ['Buttermilk',3,4.5,['Scoops','Spoon'],True]"
   ]
  },
  {
   "cell_type": "code",
   "execution_count": 131,
   "id": "dbae8daa",
   "metadata": {},
   "outputs": [
    {
     "data": {
      "text/plain": [
       "'Buttermilk'"
      ]
     },
     "execution_count": 131,
     "metadata": {},
     "output_type": "execute_result"
    }
   ],
   "source": [
    "nest_list_1[0]"
   ]
  },
  {
   "cell_type": "code",
   "execution_count": 132,
   "id": "d659cca6",
   "metadata": {},
   "outputs": [
    {
     "data": {
      "text/plain": [
       "['Scoops', 'Spoon']"
      ]
     },
     "execution_count": 132,
     "metadata": {},
     "output_type": "execute_result"
    }
   ],
   "source": [
    "nest_list_1[3]"
   ]
  },
  {
   "cell_type": "code",
   "execution_count": 137,
   "id": "f600bac5",
   "metadata": {},
   "outputs": [
    {
     "data": {
      "text/plain": [
       "'Spoon'"
      ]
     },
     "execution_count": 137,
     "metadata": {},
     "output_type": "execute_result"
    }
   ],
   "source": [
    "nest_list_1[3][1]"
   ]
  },
  {
   "cell_type": "code",
   "execution_count": 138,
   "id": "fc9c96bf",
   "metadata": {},
   "outputs": [
    {
     "data": {
      "text/plain": [
       "list"
      ]
     },
     "execution_count": 138,
     "metadata": {},
     "output_type": "execute_result"
    }
   ],
   "source": [
    "type(nest_list)"
   ]
  },
  {
   "cell_type": "markdown",
   "id": "16d7b8eb",
   "metadata": {},
   "source": [
    "# Tuples\n",
    "### The major difference between list and tuple is that tuples cnnaot be changed (Immutable) after creating them\n",
    "### For tuples we use | ( ) | parenthisis which is going to store the data in it"
   ]
  },
  {
   "cell_type": "code",
   "execution_count": 135,
   "id": "57a3557b",
   "metadata": {},
   "outputs": [],
   "source": [
    "tuple_scoops = (1,2,3,2,1)"
   ]
  },
  {
   "cell_type": "code",
   "execution_count": 136,
   "id": "a7ce343b",
   "metadata": {},
   "outputs": [
    {
     "data": {
      "text/plain": [
       "tuple"
      ]
     },
     "execution_count": 136,
     "metadata": {},
     "output_type": "execute_result"
    }
   ],
   "source": [
    "type(tuple_scoops)"
   ]
  },
  {
   "cell_type": "markdown",
   "id": "8254cbbb",
   "metadata": {},
   "source": [
    "# Indexing in Tuple\n",
    "### can find the position in tuple (tuple_scoops[0])\n",
    "### cannot change or add in tuple  (tuple_scoops.append(3))\n",
    "### Mostly tuple is in such cases where data is never going to change such as city name, county, location"
   ]
  },
  {
   "cell_type": "code",
   "execution_count": 140,
   "id": "0e228135",
   "metadata": {},
   "outputs": [
    {
     "data": {
      "text/plain": [
       "1"
      ]
     },
     "execution_count": 140,
     "metadata": {},
     "output_type": "execute_result"
    }
   ],
   "source": [
    "tuple_scoops[0]"
   ]
  },
  {
   "cell_type": "code",
   "execution_count": 141,
   "id": "4ead2901",
   "metadata": {},
   "outputs": [
    {
     "ename": "AttributeError",
     "evalue": "'tuple' object has no attribute 'append'",
     "output_type": "error",
     "traceback": [
      "\u001b[1;31m---------------------------------------------------------------------------\u001b[0m",
      "\u001b[1;31mAttributeError\u001b[0m                            Traceback (most recent call last)",
      "Cell \u001b[1;32mIn[141], line 1\u001b[0m\n\u001b[1;32m----> 1\u001b[0m tuple_scoops\u001b[38;5;241m.\u001b[39mappend(\u001b[38;5;241m3\u001b[39m)\n",
      "\u001b[1;31mAttributeError\u001b[0m: 'tuple' object has no attribute 'append'"
     ]
    }
   ],
   "source": [
    "tuple_scoops.append(3)"
   ]
  },
  {
   "cell_type": "markdown",
   "id": "4c32de26",
   "metadata": {},
   "source": [
    "# Sets\n",
    "#### Set is somewhat similar to list and a tuple but little different beacuse they dont have any duplicate elements another bigger difference is values in sets can not be accesed using an index because it doesn't have and index becuase it is unordered we can still loop through the items in a set with a for loop but we cannot acccess it using the bracket and then accessig it's index point\n",
    "#### For sets we use curly brackets | { } |"
   ]
  },
  {
   "cell_type": "code",
   "execution_count": 147,
   "id": "a853b8ad",
   "metadata": {},
   "outputs": [],
   "source": [
    "daily_pints = {1,2,3}"
   ]
  },
  {
   "cell_type": "code",
   "execution_count": 148,
   "id": "00cfdd2c",
   "metadata": {},
   "outputs": [
    {
     "data": {
      "text/plain": [
       "set"
      ]
     },
     "execution_count": 148,
     "metadata": {},
     "output_type": "execute_result"
    }
   ],
   "source": [
    "type(daily_pints)"
   ]
  },
  {
   "cell_type": "markdown",
   "id": "9f013e64",
   "metadata": {},
   "source": [
    "#### The output will give only unique values in the se named (daily_pints_log)"
   ]
  },
  {
   "cell_type": "code",
   "execution_count": 149,
   "id": "4e469031",
   "metadata": {},
   "outputs": [
    {
     "name": "stdout",
     "output_type": "stream",
     "text": [
      "{1, 2, 3, 4, 5, 51, 22, 31}\n"
     ]
    }
   ],
   "source": [
    "daily_pints_log = {1,2,3,31,4,22,4,3,5,51,1}\n",
    "print(daily_pints_log)"
   ]
  },
  {
   "cell_type": "markdown",
   "id": "8b854732",
   "metadata": {},
   "source": [
    "# Use Case\n",
    "#### I can be use to compare two seperate sets\n",
    "#### Let,s assume that we have list and a tuple that we had converted into sets it will narrow it down to its unique values and then we can compare unique value of one set to the unique value of another set then we can see what's same and what's different in them\n",
    "### Refer command (using Mod { | } )\n",
    "#### (print(daily_pints_log | frnd_daily_pints_log) mod symbol ( | ) is used to put both sets into one single set\n",
    "### output will be only unique values between sets that means no duplicate values from both sets\n",
    "\n",
    "### Refer command (using ampersend { & } )\n",
    "#### (print(daily_pints_log & frnd_daily_pints_log) mod symbol ( & ) is used to put both sets into one single set\n",
    "### output will be all matchig values between two sets that means which values show up in both sets \n",
    "\n",
    "### Refer command (using ampersend { - } )\n",
    "#### (print(daily_pints_log & frnd_daily_pints_log) mod symbol ( - ) is used to put both sets into one single set\n",
    "### output will be all  values that do not match between two sets that means values doesn't  show up in both sets. in short out put is opposit of the ampersend one\n",
    "\n",
    "### Refer command (using caret { ^ } )\n",
    "#### (print(daily_pints_log & frnd_daily_pints_log) mod symbol ( ^ ) is used to put both sets into one single set\n",
    "### output will be all  values either in one or the other but not in both sets that means the values are completely unique only to each of the sets\n"
   ]
  },
  {
   "cell_type": "code",
   "execution_count": 150,
   "id": "89b3436c",
   "metadata": {},
   "outputs": [],
   "source": [
    "frnd_daily_pints_log = {12,5,7,3,24,5,7,3,2,0}"
   ]
  },
  {
   "cell_type": "code",
   "execution_count": 152,
   "id": "570d74db",
   "metadata": {},
   "outputs": [
    {
     "name": "stdout",
     "output_type": "stream",
     "text": [
      "{0, 1, 2, 3, 4, 5, 7, 12, 51, 22, 24, 31}\n"
     ]
    }
   ],
   "source": [
    "print(daily_pints_log | frnd_daily_pints_log)"
   ]
  },
  {
   "cell_type": "code",
   "execution_count": 153,
   "id": "223ced41",
   "metadata": {},
   "outputs": [
    {
     "name": "stdout",
     "output_type": "stream",
     "text": [
      "{2, 3, 5}\n"
     ]
    }
   ],
   "source": [
    "print(daily_pints_log & frnd_daily_pints_log)"
   ]
  },
  {
   "cell_type": "markdown",
   "id": "522a8bff",
   "metadata": {},
   "source": [
    "#### Here daily_pints_log is compared with frnd_daily_pints_log"
   ]
  },
  {
   "cell_type": "code",
   "execution_count": 154,
   "id": "869da6cc",
   "metadata": {},
   "outputs": [
    {
     "name": "stdout",
     "output_type": "stream",
     "text": [
      "{1, 4, 51, 22, 31}\n"
     ]
    }
   ],
   "source": [
    "print(daily_pints_log - frnd_daily_pints_log)"
   ]
  },
  {
   "cell_type": "markdown",
   "id": "33f13149",
   "metadata": {},
   "source": [
    "#### Here  frnd_daily_pints_log is compared with daily_pints_log"
   ]
  },
  {
   "cell_type": "code",
   "execution_count": 155,
   "id": "f5a4b372",
   "metadata": {},
   "outputs": [
    {
     "name": "stdout",
     "output_type": "stream",
     "text": [
      "{0, 24, 12, 7}\n"
     ]
    }
   ],
   "source": [
    "print(frnd_daily_pints_log - daily_pints_log)"
   ]
  },
  {
   "cell_type": "code",
   "execution_count": 156,
   "id": "a6b20c9b",
   "metadata": {},
   "outputs": [
    {
     "name": "stdout",
     "output_type": "stream",
     "text": [
      "{0, 1, 4, 7, 12, 51, 22, 24, 31}\n"
     ]
    }
   ],
   "source": [
    "print(frnd_daily_pints_log ^ daily_pints_log)"
   ]
  },
  {
   "cell_type": "markdown",
   "id": "0bed509d",
   "metadata": {},
   "source": [
    "# Dictionaries\n",
    "### This is most different among all the previous data types\n",
    "### A Key/Value pair that means when we use dictionary its not like lists where we have (value comma value) intead we have a key that indicates what that value is attributed to\n",
    "### we can also add list in a dictionary"
   ]
  },
  {
   "cell_type": "code",
   "execution_count": 157,
   "id": "9cf848c7",
   "metadata": {},
   "outputs": [],
   "source": [
    "Dict_cream = {'name' : 'Alex morgan','weekly intake':5, 'favorite ice creams': ['mcc','Chocolate']}"
   ]
  },
  {
   "cell_type": "code",
   "execution_count": 158,
   "id": "a483122a",
   "metadata": {},
   "outputs": [
    {
     "data": {
      "text/plain": [
       "dict"
      ]
     },
     "execution_count": 158,
     "metadata": {},
     "output_type": "execute_result"
    }
   ],
   "source": [
    "type(Dict_cream)"
   ]
  },
  {
   "cell_type": "code",
   "execution_count": 159,
   "id": "504050e9",
   "metadata": {},
   "outputs": [
    {
     "name": "stdout",
     "output_type": "stream",
     "text": [
      "{'name': 'Alex morgan', 'weekly intake': 5, 'favorite ice creams': ['mcc', 'Chocolate']}\n"
     ]
    }
   ],
   "source": [
    "print(Dict_cream)"
   ]
  },
  {
   "cell_type": "code",
   "execution_count": 160,
   "id": "8bd17b36",
   "metadata": {},
   "outputs": [
    {
     "data": {
      "text/plain": [
       "dict_values(['Alex morgan', 5, ['mcc', 'Chocolate']])"
      ]
     },
     "execution_count": 160,
     "metadata": {},
     "output_type": "execute_result"
    }
   ],
   "source": [
    "Dict_cream.values()"
   ]
  },
  {
   "cell_type": "code",
   "execution_count": 161,
   "id": "6ef0dbf2",
   "metadata": {},
   "outputs": [
    {
     "data": {
      "text/plain": [
       "dict_keys(['name', 'weekly intake', 'favorite ice creams'])"
      ]
     },
     "execution_count": 161,
     "metadata": {},
     "output_type": "execute_result"
    }
   ],
   "source": [
    "Dict_cream.keys()"
   ]
  },
  {
   "cell_type": "code",
   "execution_count": 163,
   "id": "6f782886",
   "metadata": {},
   "outputs": [
    {
     "data": {
      "text/plain": [
       "dict_items([('name', 'Alex morgan'), ('weekly intake', 5), ('favorite ice creams', ['mcc', 'Chocolate'])])"
      ]
     },
     "execution_count": 163,
     "metadata": {},
     "output_type": "execute_result"
    }
   ],
   "source": [
    "Dict_cream.items()"
   ]
  },
  {
   "cell_type": "markdown",
   "id": "901c93af",
   "metadata": {},
   "source": [
    "### indexing in dictionaries"
   ]
  },
  {
   "cell_type": "code",
   "execution_count": 164,
   "id": "a4d8bd72",
   "metadata": {},
   "outputs": [
    {
     "data": {
      "text/plain": [
       "'Alex morgan'"
      ]
     },
     "execution_count": 164,
     "metadata": {},
     "output_type": "execute_result"
    }
   ],
   "source": [
    "Dict_cream['name']"
   ]
  },
  {
   "cell_type": "markdown",
   "id": "fb5316dd",
   "metadata": {},
   "source": [
    "### Replacing values in dictionary"
   ]
  },
  {
   "cell_type": "code",
   "execution_count": 165,
   "id": "cf2e1705",
   "metadata": {},
   "outputs": [
    {
     "name": "stdout",
     "output_type": "stream",
     "text": [
      "{'name': 'Chirstine freeman', 'weekly intake': 5, 'favorite ice creams': ['mcc', 'Chocolate']}\n"
     ]
    }
   ],
   "source": [
    "Dict_cream['name'] = 'Chirstine freeman'\n",
    "print(Dict_cream)"
   ]
  },
  {
   "cell_type": "markdown",
   "id": "a2ec230e",
   "metadata": {},
   "source": [
    "### Updating all values in dictionary at on\n",
    "### this action does not delete any value its add up an new key/value pair at the end of the dictionary\n"
   ]
  },
  {
   "cell_type": "code",
   "execution_count": 166,
   "id": "a8f38e1f",
   "metadata": {},
   "outputs": [
    {
     "name": "stdout",
     "output_type": "stream",
     "text": [
      "{'name': 'Chirstine freeman', 'weekly intake': 5, 'favorite ice creams': ['mcc', 'Chocolate'], 'weight': 80}\n"
     ]
    }
   ],
   "source": [
    "Dict_cream.update({'name': 'Chirstine freeman', 'weekly intake': 5, 'weight': 80})\n",
    "print(Dict_cream)"
   ]
  },
  {
   "cell_type": "markdown",
   "id": "396cac5f",
   "metadata": {},
   "source": [
    "### but we can chage a speciffic value of the key"
   ]
  },
  {
   "cell_type": "code",
   "execution_count": 178,
   "id": "2ece2933",
   "metadata": {},
   "outputs": [
    {
     "name": "stdout",
     "output_type": "stream",
     "text": [
      "{'name': 'Chirstine freeman', 'weekly intake': 10, 'favorite ice creams': ['mcc', 'Chocolate'], 'weight': 80}\n"
     ]
    }
   ],
   "source": [
    "Dict_cream.update({'name': 'Chirstine freeman', 'weekly intake': 10, 'weight': 80})\n",
    "print(Dict_cream)"
   ]
  },
  {
   "cell_type": "markdown",
   "id": "4fd5ff06",
   "metadata": {},
   "source": [
    "### deleting key/value pair in dictionary"
   ]
  },
  {
   "cell_type": "code",
   "execution_count": 179,
   "id": "fea310ed",
   "metadata": {},
   "outputs": [
    {
     "name": "stdout",
     "output_type": "stream",
     "text": [
      "{'name': 'Chirstine freeman', 'weekly intake': 10, 'favorite ice creams': ['mcc', 'Chocolate']}\n"
     ]
    }
   ],
   "source": [
    "del Dict_cream['weight']\n",
    "print(Dict_cream)"
   ]
  },
  {
   "cell_type": "markdown",
   "id": "08cf3feb",
   "metadata": {},
   "source": [
    "# Comparision, Logical and Membership operators in python"
   ]
  },
  {
   "cell_type": "markdown",
   "id": "893f97db",
   "metadata": {},
   "source": [
    "# Comparision operators \n",
    "### == (Equal)\n",
    "### != (Not Equal)\n",
    "### > (Greater than)\n",
    "### < (Less than)\n",
    "### >= (Greater than equal to)\n",
    "### <= (Less than equal to)\n",
    "#### Note (Single equal to (=) means assigning the value but double (==) comparision"
   ]
  },
  {
   "cell_type": "code",
   "execution_count": 2,
   "id": "c228155b",
   "metadata": {},
   "outputs": [
    {
     "data": {
      "text/plain": [
       "False"
      ]
     },
     "execution_count": 2,
     "metadata": {},
     "output_type": "execute_result"
    }
   ],
   "source": [
    "10 == 50"
   ]
  },
  {
   "cell_type": "code",
   "execution_count": 3,
   "id": "d67c3b66",
   "metadata": {
    "scrolled": true
   },
   "outputs": [
    {
     "data": {
      "text/plain": [
       "True"
      ]
     },
     "execution_count": 3,
     "metadata": {},
     "output_type": "execute_result"
    }
   ],
   "source": [
    "10 != 50"
   ]
  },
  {
   "cell_type": "code",
   "execution_count": 4,
   "id": "f0640be4",
   "metadata": {
    "scrolled": true
   },
   "outputs": [
    {
     "data": {
      "text/plain": [
       "True"
      ]
     },
     "execution_count": 4,
     "metadata": {},
     "output_type": "execute_result"
    }
   ],
   "source": [
    "'vanilla' == 'vanilla'"
   ]
  },
  {
   "cell_type": "code",
   "execution_count": 31,
   "id": "9f3560e6",
   "metadata": {},
   "outputs": [
    {
     "data": {
      "text/plain": [
       "True"
      ]
     },
     "execution_count": 31,
     "metadata": {},
     "output_type": "execute_result"
    }
   ],
   "source": [
    "10<=50"
   ]
  },
  {
   "cell_type": "code",
   "execution_count": 32,
   "id": "3bbd3121",
   "metadata": {},
   "outputs": [
    {
     "data": {
      "text/plain": [
       "False"
      ]
     },
     "execution_count": 32,
     "metadata": {},
     "output_type": "execute_result"
    }
   ],
   "source": [
    "10>=50"
   ]
  },
  {
   "cell_type": "code",
   "execution_count": 38,
   "id": "f3b5d953",
   "metadata": {},
   "outputs": [
    {
     "data": {
      "text/plain": [
       "True"
      ]
     },
     "execution_count": 38,
     "metadata": {},
     "output_type": "execute_result"
    }
   ],
   "source": [
    "x = 'vanilla'\n",
    "y = 'chocolate'\n",
    "x != y"
   ]
  },
  {
   "cell_type": "markdown",
   "id": "805d34a0",
   "metadata": {},
   "source": [
    "# logical operators\n",
    "### and (Returns True if both statements are true)\n",
    "### or (Returns True if one of the statements are true)\n",
    "### not (reverse the result, returns Flase if the result is true)"
   ]
  },
  {
   "cell_type": "code",
   "execution_count": 17,
   "id": "7afa89cd",
   "metadata": {},
   "outputs": [
    {
     "data": {
      "text/plain": [
       "False"
      ]
     },
     "execution_count": 17,
     "metadata": {},
     "output_type": "execute_result"
    }
   ],
   "source": [
    "(10 > 50) and (50 > 10)"
   ]
  },
  {
   "cell_type": "code",
   "execution_count": 18,
   "id": "4c06c54b",
   "metadata": {},
   "outputs": [
    {
     "data": {
      "text/plain": [
       "True"
      ]
     },
     "execution_count": 18,
     "metadata": {},
     "output_type": "execute_result"
    }
   ],
   "source": [
    "(10 > 50) or(50 > 10)"
   ]
  },
  {
   "cell_type": "code",
   "execution_count": 20,
   "id": "4d26bb16",
   "metadata": {},
   "outputs": [
    {
     "data": {
      "text/plain": [
       "True"
      ]
     },
     "execution_count": 20,
     "metadata": {},
     "output_type": "execute_result"
    }
   ],
   "source": [
    "('vanilla' > 'chocolate') and (50 > 10)"
   ]
  },
  {
   "cell_type": "code",
   "execution_count": 22,
   "id": "e996d0e8",
   "metadata": {},
   "outputs": [
    {
     "data": {
      "text/plain": [
       "False"
      ]
     },
     "execution_count": 22,
     "metadata": {},
     "output_type": "execute_result"
    }
   ],
   "source": [
    "not (50 > 10)"
   ]
  },
  {
   "cell_type": "markdown",
   "id": "244b79ba",
   "metadata": {},
   "source": [
    "# Membership operators\n",
    "### in (checks if a value is found in a sequence.If the value is present, it returns True; otherwise, it returns False.)\n",
    "### not in (checks if a value is not found in a sequence.If the value is not present, it returns True; otherwise, it returns False.)\n",
    "### Here sequence can be like a list, tuple, dictionary, string, etc."
   ]
  },
  {
   "cell_type": "code",
   "execution_count": 24,
   "id": "c29e2a14",
   "metadata": {},
   "outputs": [
    {
     "data": {
      "text/plain": [
       "True"
      ]
     },
     "execution_count": 24,
     "metadata": {},
     "output_type": "execute_result"
    }
   ],
   "source": [
    "ice_cream = \"i love ice cream\"\n",
    "'love' in ice_cream"
   ]
  },
  {
   "cell_type": "code",
   "execution_count": 26,
   "id": "c6a4c3c7",
   "metadata": {},
   "outputs": [
    {
     "data": {
      "text/plain": [
       "True"
      ]
     },
     "execution_count": 26,
     "metadata": {},
     "output_type": "execute_result"
    }
   ],
   "source": [
    "'love' in \"i love ice cream\""
   ]
  },
  {
   "cell_type": "code",
   "execution_count": 27,
   "id": "c446d407",
   "metadata": {},
   "outputs": [
    {
     "data": {
      "text/plain": [
       "True"
      ]
     },
     "execution_count": 27,
     "metadata": {},
     "output_type": "execute_result"
    }
   ],
   "source": [
    "scoops = [1,2,3,4,5]\n",
    "2 in scoops"
   ]
  },
  {
   "cell_type": "code",
   "execution_count": 29,
   "id": "2574e9a1",
   "metadata": {},
   "outputs": [
    {
     "data": {
      "text/plain": [
       "True"
      ]
     },
     "execution_count": 29,
     "metadata": {},
     "output_type": "execute_result"
    }
   ],
   "source": [
    "scoops = [1,2,3,4,5]\n",
    "6 not in scoops"
   ]
  },
  {
   "cell_type": "code",
   "execution_count": 30,
   "id": "38d3f017",
   "metadata": {},
   "outputs": [
    {
     "data": {
      "text/plain": [
       "True"
      ]
     },
     "execution_count": 30,
     "metadata": {},
     "output_type": "execute_result"
    }
   ],
   "source": [
    "scoops = [1,2,3,4,5]\n",
    "wanted_scoops = 8\n",
    "wanted_scoops not in scoops"
   ]
  },
  {
   "cell_type": "markdown",
   "id": "30c76783",
   "metadata": {},
   "source": [
    "# If - Elif - Else Statesment\n",
    "## We can have many Elif statements but only one If and Else statement"
   ]
  },
  {
   "cell_type": "markdown",
   "id": "001e48fc",
   "metadata": {},
   "source": [
    "## if "
   ]
  },
  {
   "cell_type": "code",
   "execution_count": 39,
   "id": "5abee961",
   "metadata": {},
   "outputs": [
    {
     "name": "stdout",
     "output_type": "stream",
     "text": [
      "It worked!\n"
     ]
    }
   ],
   "source": [
    "if 25 > 10 :\n",
    "    print('It worked!')"
   ]
  },
  {
   "cell_type": "markdown",
   "id": "d32eb3a7",
   "metadata": {},
   "source": [
    "## else"
   ]
  },
  {
   "cell_type": "code",
   "execution_count": 46,
   "id": "5dc4b49e",
   "metadata": {},
   "outputs": [
    {
     "name": "stdout",
     "output_type": "stream",
     "text": [
      "It didn't work..\n"
     ]
    }
   ],
   "source": [
    "if 25 < 10 :\n",
    "    print('It worked!')\n",
    "    \n",
    "else :\n",
    "        print(\"It didn't work..\")"
   ]
  },
  {
   "cell_type": "markdown",
   "id": "d9d6b486",
   "metadata": {},
   "source": [
    "## elif "
   ]
  },
  {
   "cell_type": "code",
   "execution_count": 49,
   "id": "06b3a8a0",
   "metadata": {},
   "outputs": [
    {
     "name": "stdout",
     "output_type": "stream",
     "text": [
      "elif 3 worked!\n"
     ]
    }
   ],
   "source": [
    "if 25 < 10 :\n",
    "    print('It worked!')\n",
    "elif 25 < 20 :\n",
    "    print('elif worked!')\n",
    "elif 25 < 21 :\n",
    "    print('elif 2 worked!')\n",
    "elif 25 < 40 :\n",
    "    print('elif 3 worked!')\n",
    "elif 25 < 50 :\n",
    "    print('elif 4 worked!')\n",
    "    \n",
    "    \n",
    "else :\n",
    "        print(\"It didn't work..\")"
   ]
  },
  {
   "cell_type": "markdown",
   "id": "886ac973",
   "metadata": {},
   "source": [
    "## with logical operator (or)"
   ]
  },
  {
   "cell_type": "code",
   "execution_count": 50,
   "id": "cc97fc58",
   "metadata": {},
   "outputs": [
    {
     "name": "stdout",
     "output_type": "stream",
     "text": [
      "It worked!\n"
     ]
    }
   ],
   "source": [
    "if 25 < 10 or (1 < 3) :\n",
    "    print('It worked!')\n",
    "elif 25 < 20 :\n",
    "    print('elif worked!')\n",
    "elif 25 < 21 :\n",
    "    print('elif 2 worked!')\n",
    "elif 25 < 40 :\n",
    "    print('elif 3 worked!')\n",
    "elif 25 < 50 :\n",
    "    print('elif 4 worked!')\n",
    "    \n",
    "    \n",
    "else :\n",
    "        print(\"It didn't work..\")"
   ]
  },
  {
   "cell_type": "markdown",
   "id": "a509a656",
   "metadata": {},
   "source": [
    "## method to add in single line"
   ]
  },
  {
   "cell_type": "code",
   "execution_count": 51,
   "id": "a811b81f",
   "metadata": {},
   "outputs": [
    {
     "name": "stdout",
     "output_type": "stream",
     "text": [
      "It did'nt work..\n"
     ]
    }
   ],
   "source": [
    "print('It worked!') if 10>30 else print(\"It did'nt work..\")"
   ]
  },
  {
   "cell_type": "markdown",
   "id": "0a8777bc",
   "metadata": {},
   "source": [
    "# Nested If"
   ]
  },
  {
   "cell_type": "code",
   "execution_count": 57,
   "id": "2510d8a2",
   "metadata": {},
   "outputs": [
    {
     "name": "stdout",
     "output_type": "stream",
     "text": [
      "It worked!\n",
      "This nested if statement worked!\n"
     ]
    }
   ],
   "source": [
    "if 25 < 10 or (1 < 3) :\n",
    "    print('It worked!')\n",
    "if 10 > 5:\n",
    "    print('This nested if statement worked!')\n",
    "elif 25 < 20 :\n",
    "    print('elif worked!')\n",
    "elif 25 < 21 :\n",
    "    print('elif 2 worked!')\n",
    "elif 25 < 40 :\n",
    "    print('elif 3 worked!')\n",
    "elif 25 < 50 :\n",
    "    print('elif 4 worked!')\n",
    "    \n",
    "    \n",
    "else :\n",
    "        print(\"It didn't work..\")"
   ]
  },
  {
   "cell_type": "markdown",
   "id": "4c67f4fc",
   "metadata": {},
   "source": [
    "# Loops"
   ]
  },
  {
   "cell_type": "markdown",
   "id": "cb9fd455",
   "metadata": {},
   "source": [
    "# 1) For Loop\n",
    "### For loops are used to itterate over a sequence and the sequence can be a list, tuple, srting, dictionaries\n",
    " ### How a for loop works?\n",
    " ### It will look for the first element in the list in this case its is (1) \n",
    " ### Then it will ask is this last elemet in the list if NO then it will go back the list till it reaches the last elemet which is (5) in this case once it reaches last element we will exit the loop\n",
    " ## refer codes below"
   ]
  },
  {
   "cell_type": "markdown",
   "id": "6a8e03b2",
   "metadata": {},
   "source": [
    "# For loop with Lists"
   ]
  },
  {
   "cell_type": "code",
   "execution_count": 58,
   "id": "545ef8b8",
   "metadata": {},
   "outputs": [],
   "source": [
    "integers = [1,2,3,4,5]"
   ]
  },
  {
   "cell_type": "code",
   "execution_count": 59,
   "id": "eac673bc",
   "metadata": {},
   "outputs": [
    {
     "data": {
      "text/plain": [
       "list"
      ]
     },
     "execution_count": 59,
     "metadata": {},
     "output_type": "execute_result"
    }
   ],
   "source": [
    "type(integers)"
   ]
  },
  {
   "cell_type": "markdown",
   "id": "9f5adac6",
   "metadata": {},
   "source": [
    "# Syntax\n",
    "### for the variables that is (1,2,3,4,5) a temperory name in the list (integers) now here we can use a tuple, string, dictionaries etc."
   ]
  },
  {
   "cell_type": "code",
   "execution_count": 63,
   "id": "6b746b0d",
   "metadata": {},
   "outputs": [
    {
     "name": "stdout",
     "output_type": "stream",
     "text": [
      "1\n",
      "2\n",
      "3\n",
      "4\n",
      "5\n"
     ]
    }
   ],
   "source": [
    "for numbers in integers:\n",
    "    print(numbers)"
   ]
  },
  {
   "cell_type": "code",
   "execution_count": 64,
   "id": "6d9296c4",
   "metadata": {},
   "outputs": [
    {
     "name": "stdout",
     "output_type": "stream",
     "text": [
      "Yes\n",
      "Yes\n",
      "Yes\n",
      "Yes\n",
      "Yes\n"
     ]
    }
   ],
   "source": [
    "for numbers in integers:\n",
    "    print('Yes')"
   ]
  },
  {
   "cell_type": "code",
   "execution_count": 65,
   "id": "3f04a37a",
   "metadata": {},
   "outputs": [],
   "source": [
    "integers = [1,2,3,4,5]"
   ]
  },
  {
   "cell_type": "code",
   "execution_count": 66,
   "id": "72e6728e",
   "metadata": {},
   "outputs": [
    {
     "name": "stdout",
     "output_type": "stream",
     "text": [
      "2\n",
      "4\n",
      "6\n",
      "8\n",
      "10\n"
     ]
    }
   ],
   "source": [
    "for jelly in integers:\n",
    "    print(jelly + jelly)"
   ]
  },
  {
   "cell_type": "code",
   "execution_count": null,
   "id": "f27d3836",
   "metadata": {},
   "outputs": [],
   "source": [
    "# For loop with dictionary"
   ]
  },
  {
   "cell_type": "code",
   "execution_count": 67,
   "id": "ab978d7d",
   "metadata": {},
   "outputs": [],
   "source": [
    "ice_cream_dict = {'name' : 'Alex morgan','weekly intake':5, 'favorite ice creams': ['mcc','Chocolate']}"
   ]
  },
  {
   "cell_type": "code",
   "execution_count": 68,
   "id": "cf0496f0",
   "metadata": {},
   "outputs": [
    {
     "data": {
      "text/plain": [
       "dict"
      ]
     },
     "execution_count": 68,
     "metadata": {},
     "output_type": "execute_result"
    }
   ],
   "source": [
    "type(ice_cream_dict)"
   ]
  },
  {
   "cell_type": "code",
   "execution_count": 70,
   "id": "caf10542",
   "metadata": {},
   "outputs": [
    {
     "name": "stdout",
     "output_type": "stream",
     "text": [
      "Alex morgan\n",
      "5\n",
      "['mcc', 'Chocolate']\n"
     ]
    }
   ],
   "source": [
    "for cream in ice_cream_dict.values():\n",
    "    print(cream)"
   ]
  },
  {
   "cell_type": "code",
   "execution_count": 76,
   "id": "dd64da4f",
   "metadata": {},
   "outputs": [
    {
     "name": "stdout",
     "output_type": "stream",
     "text": [
      "name\n",
      "weekly intake\n",
      "favorite ice creams\n"
     ]
    }
   ],
   "source": [
    "for key, value in ice_cream_dict.items():\n",
    "    print(key)\n"
   ]
  },
  {
   "cell_type": "code",
   "execution_count": 78,
   "id": "0ff6874f",
   "metadata": {},
   "outputs": [
    {
     "name": "stdout",
     "output_type": "stream",
     "text": [
      "name -> Alex morgan\n",
      "weekly intake -> 5\n",
      "favorite ice creams -> ['mcc', 'Chocolate']\n"
     ]
    }
   ],
   "source": [
    "for key, value in ice_cream_dict.items():\n",
    "    print(key,'->',value)"
   ]
  },
  {
   "cell_type": "markdown",
   "id": "97d32228",
   "metadata": {},
   "source": [
    "# nested for loop"
   ]
  },
  {
   "cell_type": "code",
   "execution_count": 81,
   "id": "fd11f2ce",
   "metadata": {},
   "outputs": [],
   "source": [
    "flavours = ['vanilla','chocolate','buttersoch']\n",
    "topping = ['Hot fudge','oreos','Marshmellows']\n"
   ]
  },
  {
   "cell_type": "code",
   "execution_count": 82,
   "id": "8dd93f07",
   "metadata": {},
   "outputs": [
    {
     "name": "stdout",
     "output_type": "stream",
     "text": [
      "vanilla topped with Hot fudge\n",
      "vanilla topped with oreos\n",
      "vanilla topped with Marshmellows\n",
      "chocolate topped with Hot fudge\n",
      "chocolate topped with oreos\n",
      "chocolate topped with Marshmellows\n",
      "buttersoch topped with Hot fudge\n",
      "buttersoch topped with oreos\n",
      "buttersoch topped with Marshmellows\n"
     ]
    }
   ],
   "source": [
    "for one in flavours:\n",
    "    for two in topping:\n",
    "        print(one, 'topped with', two)"
   ]
  },
  {
   "cell_type": "markdown",
   "id": "5272ae1f",
   "metadata": {},
   "source": [
    "# Funtions in python\n",
    "### def function():\n",
    "###    print('My first fuction') (this is fuction body)\n",
    "  \n",
    "### function() (function call)\n",
    "### My first fuction (output)\n",
    "## We can observe that fuction is a block of code which only runs when it is called"
   ]
  },
  {
   "cell_type": "code",
   "execution_count": 84,
   "id": "2bf13474",
   "metadata": {},
   "outputs": [],
   "source": [
    "def function():\n",
    "    print('My first fuction')\n",
    "  "
   ]
  },
  {
   "cell_type": "code",
   "execution_count": 85,
   "id": "39e61233",
   "metadata": {},
   "outputs": [
    {
     "name": "stdout",
     "output_type": "stream",
     "text": [
      "My first fuction\n"
     ]
    }
   ],
   "source": [
    "function()"
   ]
  },
  {
   "cell_type": "code",
   "execution_count": 93,
   "id": "3a7d90ed",
   "metadata": {},
   "outputs": [],
   "source": [
    "def first_func():\n",
    "    print('We did it!')"
   ]
  },
  {
   "cell_type": "code",
   "execution_count": 94,
   "id": "156e9194",
   "metadata": {},
   "outputs": [
    {
     "name": "stdout",
     "output_type": "stream",
     "text": [
      "We did it!\n"
     ]
    }
   ],
   "source": [
    "first_func()"
   ]
  },
  {
   "cell_type": "code",
   "execution_count": null,
   "id": "9e17d2c5",
   "metadata": {},
   "outputs": [],
   "source": []
  },
  {
   "cell_type": "code",
   "execution_count": 95,
   "id": "79073b75",
   "metadata": {},
   "outputs": [],
   "source": [
    "def number_squared(number):\n",
    "    print(number**2)"
   ]
  },
  {
   "cell_type": "code",
   "execution_count": 96,
   "id": "6cdde61d",
   "metadata": {},
   "outputs": [
    {
     "name": "stdout",
     "output_type": "stream",
     "text": [
      "25\n"
     ]
    }
   ],
   "source": [
    "number_squared(5)"
   ]
  },
  {
   "cell_type": "code",
   "execution_count": 10,
   "id": "69a00c0c",
   "metadata": {},
   "outputs": [],
   "source": [
    "args_tuple = (5,6,1,2,8)\n",
    "\n",
    "def number_squared_cust(number,power):\n",
    "    print(number**power)"
   ]
  },
  {
   "cell_type": "code",
   "execution_count": 98,
   "id": "52e33dfb",
   "metadata": {},
   "outputs": [
    {
     "name": "stdout",
     "output_type": "stream",
     "text": [
      "125\n"
     ]
    }
   ],
   "source": [
    "number_squared_cust(5,3)"
   ]
  },
  {
   "cell_type": "code",
   "execution_count": null,
   "id": "de4d1e5b",
   "metadata": {},
   "outputs": [],
   "source": [
    "# arbitaray Arguments"
   ]
  },
  {
   "cell_type": "markdown",
   "id": "6efc296b",
   "metadata": {},
   "source": [
    "### Arbitary arguments is difeerent beacuse if we are not specfic values we can specify it later when the function is called"
   ]
  },
  {
   "cell_type": "code",
   "execution_count": 8,
   "id": "f5295cf0",
   "metadata": {},
   "outputs": [],
   "source": [
    "def number_args(*number):\n",
    "    print(number[0]*number[1])"
   ]
  },
  {
   "cell_type": "code",
   "execution_count": 12,
   "id": "2677786b",
   "metadata": {},
   "outputs": [
    {
     "name": "stdout",
     "output_type": "stream",
     "text": [
      "30\n"
     ]
    }
   ],
   "source": [
    "number_args(*args_tuple)"
   ]
  },
  {
   "cell_type": "markdown",
   "id": "13ed75e4",
   "metadata": {},
   "source": [
    "# Keyword Argument"
   ]
  },
  {
   "cell_type": "code",
   "execution_count": 13,
   "id": "3705aa6e",
   "metadata": {},
   "outputs": [],
   "source": [
    "def number_squared_cust(number,power):\n",
    "    print(number**power)"
   ]
  },
  {
   "cell_type": "code",
   "execution_count": 14,
   "id": "4d2daf24",
   "metadata": {},
   "outputs": [
    {
     "name": "stdout",
     "output_type": "stream",
     "text": [
      "243\n"
     ]
    }
   ],
   "source": [
    "number_squared_cust(power = 5,number = 3)"
   ]
  },
  {
   "cell_type": "code",
   "execution_count": null,
   "id": "5be82475",
   "metadata": {},
   "outputs": [],
   "source": []
  },
  {
   "cell_type": "code",
   "execution_count": 31,
   "id": "14cb8315",
   "metadata": {},
   "outputs": [],
   "source": [
    "def number_kwarg(**number):\n",
    "    print(\"my number is: \" + number[\"integer\"] + \", my other number: \" + str(number[\"integer2\"]))\n"
   ]
  },
  {
   "cell_type": "code",
   "execution_count": 32,
   "id": "007a5511",
   "metadata": {},
   "outputs": [
    {
     "name": "stdout",
     "output_type": "stream",
     "text": [
      "my number is: 2309, my other number: 349\n"
     ]
    }
   ],
   "source": [
    "number_kwarg(integer = \"2309\", integer2 = 349)"
   ]
  },
  {
   "cell_type": "code",
   "execution_count": null,
   "id": "49cdd7a0",
   "metadata": {},
   "outputs": [],
   "source": [
    "# convering data types"
   ]
  },
  {
   "cell_type": "code",
   "execution_count": 33,
   "id": "fb2d376d",
   "metadata": {},
   "outputs": [
    {
     "data": {
      "text/plain": [
       "int"
      ]
     },
     "execution_count": 33,
     "metadata": {},
     "output_type": "execute_result"
    }
   ],
   "source": [
    "num_int = 7\n",
    "type(num_int)"
   ]
  },
  {
   "cell_type": "code",
   "execution_count": 40,
   "id": "beaeb51b",
   "metadata": {},
   "outputs": [
    {
     "data": {
      "text/plain": [
       "str"
      ]
     },
     "execution_count": 40,
     "metadata": {},
     "output_type": "execute_result"
    }
   ],
   "source": [
    "num_str = \"7\"\n",
    "type(num_str)"
   ]
  },
  {
   "cell_type": "code",
   "execution_count": 45,
   "id": "65fc286f",
   "metadata": {},
   "outputs": [
    {
     "data": {
      "text/plain": [
       "int"
      ]
     },
     "execution_count": 45,
     "metadata": {},
     "output_type": "execute_result"
    }
   ],
   "source": [
    "num_str_convert = int(num_str)\n",
    "type(num_str_convert)"
   ]
  },
  {
   "cell_type": "code",
   "execution_count": 48,
   "id": "7c1be50d",
   "metadata": {
    "scrolled": true
   },
   "outputs": [
    {
     "name": "stdout",
     "output_type": "stream",
     "text": [
      "14\n"
     ]
    }
   ],
   "source": [
    "num_sum = num_int + num_str_convert\n",
    "print(num_sum)"
   ]
  },
  {
   "cell_type": "code",
   "execution_count": null,
   "id": "facd9cba",
   "metadata": {},
   "outputs": [],
   "source": [
    "# Converting lists,sets,tuples"
   ]
  },
  {
   "cell_type": "code",
   "execution_count": 49,
   "id": "55a4e001",
   "metadata": {},
   "outputs": [
    {
     "data": {
      "text/plain": [
       "list"
      ]
     },
     "execution_count": 49,
     "metadata": {},
     "output_type": "execute_result"
    }
   ],
   "source": [
    "list_type = [1,2,3]\n",
    "type(list_type)"
   ]
  },
  {
   "cell_type": "code",
   "execution_count": null,
   "id": "737f250a",
   "metadata": {},
   "outputs": [],
   "source": [
    "# converting list into tuple"
   ]
  },
  {
   "cell_type": "code",
   "execution_count": 53,
   "id": "f60d4190",
   "metadata": {},
   "outputs": [
    {
     "data": {
      "text/plain": [
       "(1, 2, 3)"
      ]
     },
     "execution_count": 53,
     "metadata": {},
     "output_type": "execute_result"
    }
   ],
   "source": [
    "tuple(list_type)"
   ]
  },
  {
   "cell_type": "code",
   "execution_count": 54,
   "id": "db03cc39",
   "metadata": {},
   "outputs": [
    {
     "data": {
      "text/plain": [
       "tuple"
      ]
     },
     "execution_count": 54,
     "metadata": {},
     "output_type": "execute_result"
    }
   ],
   "source": [
    "type(tuple(list_type))"
   ]
  },
  {
   "cell_type": "code",
   "execution_count": null,
   "id": "a3798095",
   "metadata": {},
   "outputs": [],
   "source": [
    "# Converting into sets will change the data refer  below example"
   ]
  },
  {
   "cell_type": "code",
   "execution_count": 58,
   "id": "56427347",
   "metadata": {},
   "outputs": [
    {
     "data": {
      "text/plain": [
       "list"
      ]
     },
     "execution_count": 58,
     "metadata": {},
     "output_type": "execute_result"
    }
   ],
   "source": [
    "list_type1 = [1,2,3,3,1,2,3,2,1]\n",
    "type(list_type1)"
   ]
  },
  {
   "cell_type": "code",
   "execution_count": 56,
   "id": "add730bc",
   "metadata": {},
   "outputs": [
    {
     "data": {
      "text/plain": [
       "{1, 2, 3}"
      ]
     },
     "execution_count": 56,
     "metadata": {},
     "output_type": "execute_result"
    }
   ],
   "source": [
    "set(list_type1)"
   ]
  },
  {
   "cell_type": "code",
   "execution_count": 57,
   "id": "e2f81b81",
   "metadata": {},
   "outputs": [
    {
     "data": {
      "text/plain": [
       "set"
      ]
     },
     "execution_count": 57,
     "metadata": {},
     "output_type": "execute_result"
    }
   ],
   "source": [
    "type(set(list_type1))"
   ]
  },
  {
   "cell_type": "code",
   "execution_count": null,
   "id": "a7944c4d",
   "metadata": {},
   "outputs": [],
   "source": [
    "# converting dictionaries"
   ]
  },
  {
   "cell_type": "code",
   "execution_count": 59,
   "id": "ea23340c",
   "metadata": {},
   "outputs": [
    {
     "data": {
      "text/plain": [
       "dict"
      ]
     },
     "execution_count": 59,
     "metadata": {},
     "output_type": "execute_result"
    }
   ],
   "source": [
    "dict_type = {\"name\": \"jake\",\"age\": 29,\"hair\": \"N/A\"}\n",
    "type(dict_type)"
   ]
  },
  {
   "cell_type": "code",
   "execution_count": 63,
   "id": "fc370a4e",
   "metadata": {},
   "outputs": [
    {
     "data": {
      "text/plain": [
       "dict_items([('name', 'jake'), ('age', 29), ('hair', 'N/A')])"
      ]
     },
     "execution_count": 63,
     "metadata": {},
     "output_type": "execute_result"
    }
   ],
   "source": [
    "dict_type.items()"
   ]
  },
  {
   "cell_type": "code",
   "execution_count": 64,
   "id": "679c35dc",
   "metadata": {},
   "outputs": [
    {
     "data": {
      "text/plain": [
       "dict_values(['jake', 29, 'N/A'])"
      ]
     },
     "execution_count": 64,
     "metadata": {},
     "output_type": "execute_result"
    }
   ],
   "source": [
    "dict_type.values()"
   ]
  },
  {
   "cell_type": "code",
   "execution_count": 65,
   "id": "a58b0bd4",
   "metadata": {},
   "outputs": [
    {
     "data": {
      "text/plain": [
       "dict_keys(['name', 'age', 'hair'])"
      ]
     },
     "execution_count": 65,
     "metadata": {},
     "output_type": "execute_result"
    }
   ],
   "source": [
    "dict_type.keys()"
   ]
  },
  {
   "cell_type": "code",
   "execution_count": null,
   "id": "ab8dadd1",
   "metadata": {},
   "outputs": [],
   "source": [
    "# Here we are taking keys from dictionary and converting them into list refer below"
   ]
  },
  {
   "cell_type": "code",
   "execution_count": 66,
   "id": "2c9ee84b",
   "metadata": {},
   "outputs": [
    {
     "data": {
      "text/plain": [
       "['name', 'age', 'hair']"
      ]
     },
     "execution_count": 66,
     "metadata": {},
     "output_type": "execute_result"
    }
   ],
   "source": [
    "list(dict_type.keys())"
   ]
  },
  {
   "cell_type": "code",
   "execution_count": 67,
   "id": "de139ea0",
   "metadata": {},
   "outputs": [
    {
     "data": {
      "text/plain": [
       "list"
      ]
     },
     "execution_count": 67,
     "metadata": {},
     "output_type": "execute_result"
    }
   ],
   "source": [
    "type(list(dict_type.keys()))"
   ]
  },
  {
   "cell_type": "code",
   "execution_count": 68,
   "id": "22dfbcec",
   "metadata": {},
   "outputs": [
    {
     "data": {
      "text/plain": [
       "['jake', 29, 'N/A']"
      ]
     },
     "execution_count": 68,
     "metadata": {},
     "output_type": "execute_result"
    }
   ],
   "source": [
    "list(dict_type.values())"
   ]
  },
  {
   "cell_type": "code",
   "execution_count": 69,
   "id": "c6041959",
   "metadata": {},
   "outputs": [
    {
     "data": {
      "text/plain": [
       "list"
      ]
     },
     "execution_count": 69,
     "metadata": {},
     "output_type": "execute_result"
    }
   ],
   "source": [
    "type(list(dict_type.values()))"
   ]
  },
  {
   "cell_type": "code",
   "execution_count": 70,
   "id": "6da09cea",
   "metadata": {},
   "outputs": [
    {
     "data": {
      "text/plain": [
       "['I',\n",
       " ' ',\n",
       " 'l',\n",
       " 'i',\n",
       " 'k',\n",
       " 'e',\n",
       " ' ',\n",
       " 'c',\n",
       " 'h',\n",
       " 'o',\n",
       " 'c',\n",
       " 'l',\n",
       " 'a',\n",
       " 't',\n",
       " 'e',\n",
       " ' ',\n",
       " 'i',\n",
       " 'c',\n",
       " 'e',\n",
       " ' ',\n",
       " 'c',\n",
       " 'r',\n",
       " 'e',\n",
       " 'a',\n",
       " 'm']"
      ]
     },
     "execution_count": 70,
     "metadata": {},
     "output_type": "execute_result"
    }
   ],
   "source": [
    "long_str = \"I like choclate ice cream\"\n",
    "list(long_str)"
   ]
  },
  {
   "cell_type": "code",
   "execution_count": 71,
   "id": "6349f6fd",
   "metadata": {},
   "outputs": [
    {
     "ename": "NameError",
     "evalue": "name 'sets' is not defined",
     "output_type": "error",
     "traceback": [
      "\u001b[1;31m---------------------------------------------------------------------------\u001b[0m",
      "\u001b[1;31mNameError\u001b[0m                                 Traceback (most recent call last)",
      "Cell \u001b[1;32mIn[71], line 1\u001b[0m\n\u001b[1;32m----> 1\u001b[0m sets(long_str)\n",
      "\u001b[1;31mNameError\u001b[0m: name 'sets' is not defined"
     ]
    }
   ],
   "source": []
  },
  {
   "cell_type": "code",
   "execution_count": 72,
   "id": "15e1717b",
   "metadata": {},
   "outputs": [
    {
     "data": {
      "text/plain": [
       "{' ', 'I', 'a', 'c', 'e', 'h', 'i', 'k', 'l', 'm', 'o', 'r', 't'}"
      ]
     },
     "execution_count": 72,
     "metadata": {},
     "output_type": "execute_result"
    }
   ],
   "source": [
    "set(list(long_str))"
   ]
  }
 ],
 "metadata": {
  "kernelspec": {
   "display_name": "Python 3 (ipykernel)",
   "language": "python",
   "name": "python3"
  },
  "language_info": {
   "codemirror_mode": {
    "name": "ipython",
    "version": 3
   },
   "file_extension": ".py",
   "mimetype": "text/x-python",
   "name": "python",
   "nbconvert_exporter": "python",
   "pygments_lexer": "ipython3",
   "version": "3.11.5"
  }
 },
 "nbformat": 4,
 "nbformat_minor": 5
}
